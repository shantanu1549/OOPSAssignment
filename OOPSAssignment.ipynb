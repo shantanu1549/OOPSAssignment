{
  "nbformat": 4,
  "nbformat_minor": 0,
  "metadata": {
    "colab": {
      "provenance": []
    },
    "kernelspec": {
      "name": "python3",
      "display_name": "Python 3"
    },
    "language_info": {
      "name": "python"
    }
  },
  "cells": [
    {
      "cell_type": "code",
      "execution_count": null,
      "metadata": {
        "id": "timlfXCk-o4a"
      },
      "outputs": [],
      "source": [
        "'''\n",
        "Q1. What are the five key concepts of Object-Oriented Programming (OOP)?\n",
        "\n",
        "A1. Encapsulation :- It is the process of wrapping up variables and methods into a single entity.\n",
        "\n",
        "   Abstraction:- It is the process of hiding the implementation details and showing only the functionality to the user.\n",
        "\n",
        "   Inheritance:- It is the process of creating a new class from an existing class.\n",
        "\n",
        "   Polymorphism:- It is the process of creating a single interface for multiple classes.\n",
        "\n",
        "   Data Abstraction:- It is the process of hiding the implementation details and showing only the functionality to the user.\n",
        "\n",
        "'''"
      ]
    },
    {
      "cell_type": "code",
      "source": [
        "'''\n",
        "Q2. Write a Python class for a `Car` with attributes for `make`, `model`, and `year`. Include a method to display the car's information.\n",
        "\n",
        "A2. Here's an example of a Python class for a `Car` with attributes for `make`, `model`, and `year`, and a method to display the car's information:\n",
        "'''\n",
        "\n",
        "class Car:\n",
        "    def __init__(self, make, model, year):\n",
        "        self.make = make\n",
        "        self.model = model\n",
        "        self.year = year\n",
        "\n",
        "    def display_info(self):\n",
        "        print(\"Make :\", self.make)\n",
        "        print(\"Model :\", self.model)\n",
        "        print(\"Year: \", self.year)\n",
        "\n",
        "car = Car(\"Tata\", \"Safari\", 2024)\n",
        "car.display_info()"
      ],
      "metadata": {
        "colab": {
          "base_uri": "https://localhost:8080/"
        },
        "id": "C-peGNVO_fv9",
        "outputId": "8a0fd347-632b-469f-924f-77228fe3c97f"
      },
      "execution_count": null,
      "outputs": [
        {
          "output_type": "stream",
          "name": "stdout",
          "text": [
            "Make : Tata\n",
            "Model : Safari\n",
            "Year:  2024\n"
          ]
        }
      ]
    },
    {
      "cell_type": "code",
      "source": [
        "'''\n",
        "Q3. Explain the difference between instance methods and class methods. Provide an example of each.\n",
        "\n",
        "A3. Instance methods are the methods that are called on an object.\n",
        "    They are used to access the data of the object.\n",
        "\n",
        "    Class methods are the methods that are called on the class.\n",
        "    They are used to access the data of the class.\n",
        "\n",
        "    Here's an example of each:-\n",
        "'''\n",
        "#Instance methods:-\n",
        "\n",
        "class Student:\n",
        "  def __init__(self, name, age):\n",
        "    self.name = name\n",
        "    self.age = age\n",
        "\n",
        "  def display_info(self):\n",
        "    print(\"Name :\", self.name)\n",
        "    print(\"Age: \", self.age)\n",
        "\n",
        "s1 = Student(\"Shantanu\", 20)\n",
        "s1.display_info()\n",
        "\n",
        "#Class methods:-\n",
        "\n",
        "class Student:\n",
        "  school = \"ABC School\"\n",
        "\n",
        "  @classmethod\n",
        "  def display_info(cls):\n",
        "    print(\"School :\", cls.school)\n",
        "\n",
        "Student.display_info()"
      ],
      "metadata": {
        "colab": {
          "base_uri": "https://localhost:8080/"
        },
        "id": "z9fd92kE_ymq",
        "outputId": "17269d3b-0744-49ce-d2be-8be6fd37e2cd"
      },
      "execution_count": null,
      "outputs": [
        {
          "output_type": "stream",
          "name": "stdout",
          "text": [
            "Name : Shantanu\n",
            "Age:  20\n",
            "School : ABC School\n"
          ]
        }
      ]
    },
    {
      "cell_type": "code",
      "source": [
        "'''\n",
        "Q4. How does Python implement method overloading? Give an example.\n",
        "\n",
        "A4. Python does not support method overloading.\n",
        "    But we can achieve method overloading by using default arguments.\n",
        "\n",
        "    Here's an example:-\n",
        "\n",
        "'''\n",
        "\n",
        "class Calculator:\n",
        "    def add(self, a, b=0, c=0):\n",
        "        return a + b + c\n",
        "\n",
        "calc = Calculator()\n",
        "print(calc.add(10))\n",
        "print(calc.add(10, 20))\n",
        "print(calc.add(10, 20, 30))\n"
      ],
      "metadata": {
        "colab": {
          "base_uri": "https://localhost:8080/"
        },
        "id": "09KG7uufBNcm",
        "outputId": "7f55a143-f68b-4d44-d273-2f57cc47c1e9"
      },
      "execution_count": null,
      "outputs": [
        {
          "output_type": "stream",
          "name": "stdout",
          "text": [
            "10\n",
            "30\n",
            "60\n"
          ]
        }
      ]
    },
    {
      "cell_type": "code",
      "source": [
        "'''\n",
        "Q5. What are the three types of access modifiers in Python? How are they denoted?\n",
        "\n",
        "A5. The three types of access modifiers in Python are:-\n",
        "\n",
        "    1. Public:- Public members are accessible from anywhere.\n",
        "    2. Private:- Private members are accessible only within the class.\n",
        "    3. Protected:- Protected members are accessible within the class and its subclasses.\n",
        "\n",
        "    They are denoted by the single underscore and double underscore respectively.\n",
        "\n",
        "'''"
      ],
      "metadata": {
        "id": "ciTHjW7kCJg6"
      },
      "execution_count": null,
      "outputs": []
    },
    {
      "cell_type": "code",
      "source": [
        "'''\n",
        "Q6. Describe the five types of inheritance in Python. Provide a simple example of multiple inheritance.\n",
        "\n",
        "A6. The five types of inheritance in Python are:-\n",
        "\n",
        "    1. Single Inheritance:- Single inheritance is when a class inherits from a single parent class.\n",
        "\n",
        "    2. Multiple Inheritance:- Multiple inheritance is when a class inherits from multiple parent classes.\n",
        "\n",
        "    3. Multilevel Inheritance:- Multilevel inheritance is when a class inherits from a class that inherits from another class.\n",
        "\n",
        "    4. Hierarchical Inheritance:- Hierarchical inheritance is when multiple classes inherit from a single parent class.\n",
        "\n",
        "    5. Hybrid Inheritance:- Hybrid inheritance is a combination of two or more types of inheritance.\n",
        "\n",
        "    Here's an example of multiple inheritance:-\n",
        "'''\n",
        "\n",
        "class Parent1:\n",
        "    def method1(self):\n",
        "        print(\"Parent1 method1\")\n",
        "\n",
        "class Parent2:\n",
        "    def method2(self):\n",
        "        print(\"Parent2 method2\")\n",
        "\n",
        "class Child(Parent1, Parent2):\n",
        "    pass\n",
        "\n",
        "child = Child()\n",
        "child.method1()\n",
        "child.method2()\n"
      ],
      "metadata": {
        "colab": {
          "base_uri": "https://localhost:8080/"
        },
        "id": "hJB2KuJUCW8Q",
        "outputId": "7a94ceab-6c7f-4280-9797-810a70f8073f"
      },
      "execution_count": null,
      "outputs": [
        {
          "output_type": "stream",
          "name": "stdout",
          "text": [
            "Parent1 method1\n",
            "Parent2 method2\n"
          ]
        }
      ]
    },
    {
      "cell_type": "code",
      "source": [
        "'''\n",
        "Q7. What is the Method Resolution Order (MRO) in Python? How can you retrieve it programmatically?\n",
        "\n",
        "A7. The Method Resolution Order (MRO) in Python is the order in which Python looks for a method in a class hierarchy.\n",
        "\n",
        "    We can retrieve it programmatically by using the mro() method.\n",
        "\n",
        "    Here's an example:-\n",
        "'''\n",
        "\n",
        "class A:\n",
        "    pass\n",
        "\n",
        "class B(A):\n",
        "    pass\n",
        "\n",
        "class C(A):\n",
        "    pass\n",
        "\n",
        "class D(B, C):\n",
        "    pass\n",
        "\n",
        "print(D.mro())"
      ],
      "metadata": {
        "colab": {
          "base_uri": "https://localhost:8080/"
        },
        "id": "7ft4ItmSC6Ci",
        "outputId": "fc44e126-9225-4b76-ae3b-0dab1e9eef8c"
      },
      "execution_count": null,
      "outputs": [
        {
          "output_type": "stream",
          "name": "stdout",
          "text": [
            "[<class '__main__.D'>, <class '__main__.B'>, <class '__main__.C'>, <class '__main__.A'>, <class 'object'>]\n"
          ]
        }
      ]
    },
    {
      "cell_type": "code",
      "source": [
        "'''\n",
        "Q8. Create an abstract base class `Shape` with an abstract method `area()`. Then create two subclasses `Circle` and `Rectangle` that implement the `area()` method.\n",
        "\n",
        "A8. Here's an example of an abstract base class `Shape` with an abstract method `area()`, and two subclasses `Circle` and `Rectangle` that implement the `area()` method:\n",
        "'''\n",
        "\n",
        "class Shape:\n",
        "    def area(self):\n",
        "        pass\n",
        "\n",
        "class Circle(Shape):\n",
        "    def area(self, radius):\n",
        "        return 3.14 * radius * radius\n",
        "\n",
        "class Rectangle(Shape):\n",
        "    def area(self, length, width):\n",
        "        return length * width\n",
        "\n",
        "circle = Circle()\n",
        "print(circle.area(5))\n",
        "\n",
        "rectangle = Rectangle()\n",
        "print(rectangle.area(10, 20))"
      ],
      "metadata": {
        "colab": {
          "base_uri": "https://localhost:8080/"
        },
        "id": "prLxoG7jDL1u",
        "outputId": "0eedd5d7-b7b9-4c05-f691-925236480e81"
      },
      "execution_count": null,
      "outputs": [
        {
          "output_type": "stream",
          "name": "stdout",
          "text": [
            "78.5\n",
            "200\n"
          ]
        }
      ]
    },
    {
      "cell_type": "code",
      "source": [
        "#Q9.Demonstrate polymorphism by creating a function that can work with different shape objects to calculate and print their areas.\n",
        "\n",
        "class Shape:\n",
        "  def area(self):\n",
        "    pass\n",
        "class Rectangle(Shape):\n",
        "  def __init__(self, length, width):\n",
        "    self.length = length\n",
        "    self.width = width\n",
        "  def area(self):\n",
        "    return self.length * self.width\n",
        "class Circle(Shape):\n",
        "  def __init__(self, radius):\n",
        "    self.radius = radius\n",
        "  def area(self):\n",
        "    return 3.14 * self.radius * self.radius\n",
        "class Triangle(Shape):\n",
        "  def __init__(self, base, height):\n",
        "    self.base = base\n",
        "    self.height = height\n",
        "  def area(self):\n",
        "    return 0.5 * self.base * self.height\n",
        "def print_area(shape):\n",
        "  print(shape.area())\n",
        "rectangle = Rectangle(5, 7)\n",
        "circle = Circle(15)\n",
        "triangle = Triangle(8, 12)\n",
        "print_area(rectangle)\n",
        "print_area(circle)\n",
        "print_area(triangle)"
      ],
      "metadata": {
        "id": "nTAkWyaNDg2C",
        "colab": {
          "base_uri": "https://localhost:8080/"
        },
        "outputId": "411c6e36-a008-4eed-ca54-09f305c0f31f"
      },
      "execution_count": 10,
      "outputs": [
        {
          "output_type": "stream",
          "name": "stdout",
          "text": [
            "35\n",
            "706.5\n",
            "48.0\n"
          ]
        }
      ]
    },
    {
      "cell_type": "code",
      "source": [
        "#Q10. Implement encapsulation in a `BankAccount` class with private attributes for `balance` and `account_number`. Include methods for deposit, withdrawal, and balance inquiry.\n",
        "\n",
        "class BankAccount:\n",
        "  def __init__(self, account_number, balance=0):\n",
        "    self.__account_number = account_number\n",
        "    self.__balance = balance\n",
        "  def deposit(self, amount):\n",
        "    self.__balance += amount\n",
        "  def withdraw(self, amount):\n",
        "    if amount <= self.__balance:\n",
        "      self.__balance -= amount\n",
        "    else:\n",
        "      print(\"Insufficient balance\")\n",
        "  def balance_inquiry(self):\n",
        "    return self.__balance\n",
        "account = BankAccount(\"123456789\")\n",
        "account.deposit(1000)\n",
        "account.withdraw(500)\n",
        "print(account.balance_inquiry())"
      ],
      "metadata": {
        "colab": {
          "base_uri": "https://localhost:8080/"
        },
        "id": "OPo0g1JUvUCz",
        "outputId": "18357fc9-d4e3-4d6e-d3ed-d89b0c725c2d"
      },
      "execution_count": 2,
      "outputs": [
        {
          "output_type": "stream",
          "name": "stdout",
          "text": [
            "500\n"
          ]
        }
      ]
    },
    {
      "cell_type": "code",
      "source": [
        "'''\n",
        "Q11. Write a class that overrides the `__str__` and `__add__` magic methods. What will these methods allow you to do?\n",
        "\n",
        "A11. In Python, magic methods (also known as dunder methods because of the double underscores) allow you to define special behavior for certain operations. By overriding these methods, you can customize how objects of your class behave.\n",
        "\n",
        "__str__(self) is used to define the string representation of an object when it's passed to str() or print().\n",
        "__add__(self, other) is used to define the behavior of the + operator between two objects of your class.\n",
        "\n",
        "'''\n",
        "\n",
        "class MagicMethods:\n",
        "  def __init__(self, name):\n",
        "    self.name = name\n",
        "  def __str__(self):\n",
        "    return f\"This is {self.name}\"\n",
        "  def __add__(self, other):\n",
        "    return self.name + \" \" + other.name\n",
        "obj1 = MagicMethods(\"Shantanu\")\n",
        "obj2 = MagicMethods(\"Shukla\")\n",
        "print(obj1)\n",
        "result = obj1 + obj2\n",
        "print(result)"
      ],
      "metadata": {
        "colab": {
          "base_uri": "https://localhost:8080/"
        },
        "id": "ij21pZ9xvYX6",
        "outputId": "e63b101e-5fb5-444d-ba34-84e5cc60ad82"
      },
      "execution_count": 11,
      "outputs": [
        {
          "output_type": "stream",
          "name": "stdout",
          "text": [
            "This is Shantanu\n",
            "Shantanu Shukla\n"
          ]
        }
      ]
    },
    {
      "cell_type": "code",
      "source": [
        "#Q12.Create a decorator that measures and prints the execution time of a function.\n",
        "import time\n",
        "class Decorator:\n",
        "    @staticmethod\n",
        "    def measure_time(func):\n",
        "      def wrapper(*args):\n",
        "        start_time = time.time()\n",
        "        result = func(*args)\n",
        "        end_time = time.time()\n",
        "        execution_time = end_time - start_time\n",
        "        print(f\"Execution time of {func.__name__}: {execution_time:.6f} seconds\")\n",
        "        return result\n",
        "      return wrapper\n",
        "@Decorator.measure_time\n",
        "def my_function(n):\n",
        "    sum = 0\n",
        "    for i in range(n):\n",
        "        sum += i\n",
        "    return sum\n",
        "my_function(15)"
      ],
      "metadata": {
        "colab": {
          "base_uri": "https://localhost:8080/"
        },
        "id": "dOQStytevcp4",
        "outputId": "7349e9e2-e4eb-45de-e7da-1932d779383d"
      },
      "execution_count": 6,
      "outputs": [
        {
          "output_type": "stream",
          "name": "stdout",
          "text": [
            "Execution time of my_function: 0.000005 seconds\n"
          ]
        },
        {
          "output_type": "execute_result",
          "data": {
            "text/plain": [
              "105"
            ]
          },
          "metadata": {},
          "execution_count": 6
        }
      ]
    },
    {
      "cell_type": "code",
      "source": [
        "'''\n",
        "Q13.Explain the concept of the Diamond Problem in multiple inheritance. How does Python resolve it?\n",
        "\n",
        "A13. The Diamond Problem is a well-known issue in object-oriented programming that arises in the context of multiple inheritance.\n",
        "It occurs when a class inherits from two classes that both inherit from a common base class, creating a diamond-shaped inheritance structure.\n",
        "Python uses a method resolution order (MRO) algorithm to resolve the Diamond Problem. Python's MRO is based on the C3 linearization algorithm, which provides a consistent order for method resolution.\n",
        "This ensures that the class hierarchy is traversed in a predictable way when searching for methods or attributes.\n",
        "'''\n",
        "class A:\n",
        "    def __init__(self):\n",
        "        print(\"A's __init__\")\n",
        "\n",
        "    def method(self):\n",
        "        print(\"A's method\")\n",
        "class B(A):\n",
        "    def __init__(self):\n",
        "        super().__init__()\n",
        "        print(\"B's __init__\")\n",
        "\n",
        "    def method(self):\n",
        "        print(\"B's method\")\n",
        "class C(A):\n",
        "    def __init__(self):\n",
        "        super().__init__()\n",
        "        print(\"C's __init__\")\n",
        "\n",
        "    def method(self):\n",
        "        print(\"C's method\")\n",
        "class D(B, C):\n",
        "    def __init__(self):\n",
        "        super().__init__()\n",
        "        print(\"D's __init__\")\n",
        "\n",
        "d = D()\n",
        "d.method()\n",
        "print(D.mro()) # Print the method resolution order\n",
        "\n"
      ],
      "metadata": {
        "colab": {
          "base_uri": "https://localhost:8080/"
        },
        "id": "XOkpqJVtvt8Z",
        "outputId": "6e7d84d7-7496-4cd5-ec88-5fc821a190ec"
      },
      "execution_count": 7,
      "outputs": [
        {
          "output_type": "stream",
          "name": "stdout",
          "text": [
            "A's __init__\n",
            "C's __init__\n",
            "B's __init__\n",
            "D's __init__\n",
            "B's method\n",
            "[<class '__main__.D'>, <class '__main__.B'>, <class '__main__.C'>, <class '__main__.A'>, <class 'object'>]\n"
          ]
        }
      ]
    },
    {
      "cell_type": "code",
      "source": [
        "#Q14.Write a class method that keeps track of the number of instances created from a class.\n",
        "\n",
        "class InstanceCounter:\n",
        "    count = 0\n",
        "    def __init__(self):\n",
        "        InstanceCounter.count += 1\n",
        "    @classmethod\n",
        "    def print_count(cls):\n",
        "        print(\"Number of instances created:\", cls.count)\n",
        "obj1 = InstanceCounter()\n",
        "obj2 = InstanceCounter()\n",
        "obj3 = InstanceCounter()\n",
        "InstanceCounter.print_count()"
      ],
      "metadata": {
        "colab": {
          "base_uri": "https://localhost:8080/"
        },
        "id": "s9HVto5Cv6gd",
        "outputId": "f1a47158-5fae-448d-d8d8-210aad57fae9"
      },
      "execution_count": 8,
      "outputs": [
        {
          "output_type": "stream",
          "name": "stdout",
          "text": [
            "Number of instances created: 3\n"
          ]
        }
      ]
    },
    {
      "cell_type": "code",
      "source": [
        "#Q15.Implement a static method in a class that checks if a given year is a leap year.\n",
        "\n",
        "class LeapYearChecker:\n",
        "  @staticmethod\n",
        "  def is_leap_year(year):\n",
        "    if year % 4 == 0 and (year % 100 != 0 or year % 400 == 0):\n",
        "      return True\n",
        "    else:\n",
        "      return False\n",
        "y1=LeapYearChecker.is_leap_year(2020)\n",
        "print(y1)\n",
        "y2=LeapYearChecker.is_leap_year(2022)\n",
        "print(y2)"
      ],
      "metadata": {
        "colab": {
          "base_uri": "https://localhost:8080/"
        },
        "id": "rFXmTMhdv-Ic",
        "outputId": "bc47c155-c2b8-40e0-b7ec-5e6909b32cf6"
      },
      "execution_count": 9,
      "outputs": [
        {
          "output_type": "stream",
          "name": "stdout",
          "text": [
            "True\n",
            "False\n"
          ]
        }
      ]
    },
    {
      "cell_type": "code",
      "source": [],
      "metadata": {
        "id": "-6jGep8FwCRs"
      },
      "execution_count": null,
      "outputs": []
    }
  ]
}